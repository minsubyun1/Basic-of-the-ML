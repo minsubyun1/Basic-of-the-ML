{
  "nbformat": 4,
  "nbformat_minor": 0,
  "metadata": {
    "colab": {
      "name": "Chapter_4_4_house_price_prediction_feature_engineering(1).ipynb",
      "provenance": [],
      "collapsed_sections": [],
      "toc_visible": true
    },
    "kernelspec": {
      "name": "python3",
      "display_name": "Python 3"
    }
  },
  "cells": [
    {
      "cell_type": "markdown",
      "metadata": {
        "id": "Gc8a9DM17eRG",
        "colab_type": "text"
      },
      "source": [
        "---\n",
        "title: \"주택 가격 예측 - 결측치 채우기 실전\"\n",
        "date: 2020-07-16T18:00:47+09:00\n",
        "tags:\n",
        "  - \"머신러닝\"\n",
        "  - \"Python\"\n",
        "  - \"Machine Learning\"\n",
        "categories:\n",
        "  - \"머신러닝\"\n",
        "  - \"Python\"\n",
        "  - \"Machine Learning\"\n",
        "menu: \n",
        "  kaggle:\n",
        "    name: 주택 가격 예측 - 결측치 채우기 실전\n",
        "---\n"
      ]
    },
    {
      "cell_type": "markdown",
      "metadata": {
        "id": "Rd7OM2we7uKo",
        "colab_type": "text"
      },
      "source": [
        "## 개요\n",
        "- 주택가격을 예측하는 데 필요한 Kaggle 데이터를 불러와서 빅쿼리에 저장하는 실습 진행\n",
        "- 데이터를 불러와서 `LightGBM`를 활용하여 머신러닝을 만든다. "
      ]
    },
    {
      "cell_type": "markdown",
      "metadata": {
        "id": "qQD2mzjIbEpR",
        "colab_type": "text"
      },
      "source": [
        "## I. 사전 준비작업\n",
        "- `Kaggle API` 설치 후 데이터를 `Kaggle`에서 직접 가져오는 것을 구현한다. "
      ]
    },
    {
      "cell_type": "markdown",
      "metadata": {
        "id": "JOwrTEIFtHai",
        "colab_type": "text"
      },
      "source": [
        "### (1) Kaggle API 설치\n",
        "- 구글 코랩에서 `API`를 불러오려면 다음 소스코드를 실행한다. "
      ]
    },
    {
      "cell_type": "code",
      "metadata": {
        "id": "iE8dUgTntOva",
        "colab_type": "code",
        "colab": {
          "base_uri": "https://localhost:8080/",
          "height": 224
        },
        "outputId": "b53aba42-7771-4f83-a72f-fcdc2e6cc226"
      },
      "source": [
        "!pip install kaggle"
      ],
      "execution_count": 18,
      "outputs": [
        {
          "output_type": "stream",
          "text": [
            "Requirement already satisfied: kaggle in /usr/local/lib/python3.6/dist-packages (1.5.6)\n",
            "Requirement already satisfied: python-slugify in /usr/local/lib/python3.6/dist-packages (from kaggle) (4.0.1)\n",
            "Requirement already satisfied: urllib3<1.25,>=1.21.1 in /usr/local/lib/python3.6/dist-packages (from kaggle) (1.24.3)\n",
            "Requirement already satisfied: requests in /usr/local/lib/python3.6/dist-packages (from kaggle) (2.23.0)\n",
            "Requirement already satisfied: tqdm in /usr/local/lib/python3.6/dist-packages (from kaggle) (4.41.1)\n",
            "Requirement already satisfied: python-dateutil in /usr/local/lib/python3.6/dist-packages (from kaggle) (2.8.1)\n",
            "Requirement already satisfied: six>=1.10 in /usr/local/lib/python3.6/dist-packages (from kaggle) (1.15.0)\n",
            "Requirement already satisfied: certifi in /usr/local/lib/python3.6/dist-packages (from kaggle) (2020.6.20)\n",
            "Requirement already satisfied: text-unidecode>=1.3 in /usr/local/lib/python3.6/dist-packages (from python-slugify->kaggle) (1.3)\n",
            "Requirement already satisfied: idna<3,>=2.5 in /usr/local/lib/python3.6/dist-packages (from requests->kaggle) (2.10)\n",
            "Requirement already satisfied: chardet<4,>=3.0.2 in /usr/local/lib/python3.6/dist-packages (from requests->kaggle) (3.0.4)\n"
          ],
          "name": "stdout"
        }
      ]
    },
    {
      "cell_type": "markdown",
      "metadata": {
        "id": "EZlgcW7TtRkI",
        "colab_type": "text"
      },
      "source": [
        "### (2) Kaggle Token 다운로드\n",
        "- Kaggle에서 API Token을 다운로드 받는다.\n",
        "- [Kaggle]-[My Account]-[API]-[Create New API Token]을 누르면 `kaggle.json` 파일이 다운로드 된다.\n",
        "- 이 파일을 바탕화면에 옮긴 뒤, 아래 코드를 실행 시킨다."
      ]
    },
    {
      "cell_type": "code",
      "metadata": {
        "id": "nJwcVUBltedG",
        "colab_type": "code",
        "colab": {
          "resources": {
            "http://localhost:8080/nbextensions/google.colab/files.js": {
              "data": "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",
              "ok": true,
              "headers": [
                [
                  "content-type",
                  "application/javascript"
                ]
              ],
              "status": 200,
              "status_text": ""
            }
          },
          "base_uri": "https://localhost:8080/",
          "height": 89
        },
        "outputId": "570dadcb-baac-496a-91cb-1867c170838c"
      },
      "source": [
        "from google.colab import files\n",
        "uploaded = files.upload()\n",
        "for fn in uploaded.keys():\n",
        "  print('uploaded file \"{name}\" with length {length} bytes'.format(\n",
        "      name=fn, length=len(uploaded[fn])))\n",
        "  \n",
        "# kaggle.json을 아래 폴더로 옮긴 뒤, file을 사용할 수 있도록 권한을 부여한다. \n",
        "!mkdir -p ~/.kaggle/ && mv kaggle.json ~/.kaggle/ && chmod 600 ~/.kaggle/kaggle.json"
      ],
      "execution_count": 19,
      "outputs": [
        {
          "output_type": "display_data",
          "data": {
            "text/html": [
              "\n",
              "     <input type=\"file\" id=\"files-5b1f0069-6070-4aed-8d59-a33cbe7e0ecf\" name=\"files[]\" multiple disabled\n",
              "        style=\"border:none\" />\n",
              "     <output id=\"result-5b1f0069-6070-4aed-8d59-a33cbe7e0ecf\">\n",
              "      Upload widget is only available when the cell has been executed in the\n",
              "      current browser session. Please rerun this cell to enable.\n",
              "      </output>\n",
              "      <script src=\"/nbextensions/google.colab/files.js\"></script> "
            ],
            "text/plain": [
              "<IPython.core.display.HTML object>"
            ]
          },
          "metadata": {
            "tags": []
          }
        },
        {
          "output_type": "stream",
          "text": [
            "Saving kaggle.json to kaggle.json\n",
            "uploaded file \"kaggle.json\" with length 64 bytes\n"
          ],
          "name": "stdout"
        }
      ]
    },
    {
      "cell_type": "markdown",
      "metadata": {
        "id": "fmsriNFDt2IB",
        "colab_type": "text"
      },
      "source": [
        "- 실제 `kaggle.json` 파일이 업로드 되었다는 뜻이다. "
      ]
    },
    {
      "cell_type": "code",
      "metadata": {
        "id": "hby2WV6_tzTp",
        "colab_type": "code",
        "colab": {
          "base_uri": "https://localhost:8080/",
          "height": 34
        },
        "outputId": "837d570e-19f2-403f-891a-10df6802598a"
      },
      "source": [
        "ls -1ha ~/.kaggle/kaggle.json"
      ],
      "execution_count": 20,
      "outputs": [
        {
          "output_type": "stream",
          "text": [
            "/root/.kaggle/kaggle.json\n"
          ],
          "name": "stdout"
        }
      ]
    },
    {
      "cell_type": "markdown",
      "metadata": {
        "id": "l_8ZpTERuAoI",
        "colab_type": "text"
      },
      "source": [
        "### (3) Kaggle 데이터 불러오기\n",
        "- `Kaggle` 대회 리스트를 불러온다. "
      ]
    },
    {
      "cell_type": "code",
      "metadata": {
        "id": "fCWOFWNsuKCL",
        "colab_type": "code",
        "colab": {
          "base_uri": "https://localhost:8080/",
          "height": 408
        },
        "outputId": "4380429b-03f9-41d0-dc4a-f4d39e5673b5"
      },
      "source": [
        "!kaggle competitions list"
      ],
      "execution_count": 21,
      "outputs": [
        {
          "output_type": "stream",
          "text": [
            "Warning: Looks like you're using an outdated API Version, please consider updating (server 1.5.6 / client 1.5.4)\n",
            "ref                                            deadline             category            reward  teamCount  userHasEntered  \n",
            "---------------------------------------------  -------------------  ---------------  ---------  ---------  --------------  \n",
            "contradictory-my-dear-watson                   2030-07-01 23:59:00  Getting Started     Prizes        256           False  \n",
            "gan-getting-started                            2030-07-01 23:59:00  Getting Started     Prizes         92           False  \n",
            "tpu-getting-started                            2030-06-03 23:59:00  Getting Started  Knowledge        364           False  \n",
            "digit-recognizer                               2030-01-01 00:00:00  Getting Started  Knowledge       2534           False  \n",
            "titanic                                        2030-01-01 00:00:00  Getting Started  Knowledge      18865            True  \n",
            "house-prices-advanced-regression-techniques    2030-01-01 00:00:00  Getting Started  Knowledge       4905            True  \n",
            "connectx                                       2030-01-01 00:00:00  Getting Started  Knowledge        597           False  \n",
            "nlp-getting-started                            2030-01-01 00:00:00  Getting Started  Knowledge       1445            True  \n",
            "competitive-data-science-predict-future-sales  2020-12-31 23:59:00  Playground           Kudos       8674            True  \n",
            "hashcode-drone-delivery                        2020-12-14 23:59:00  Playground       Knowledge         11           False  \n",
            "lish-moa                                       2020-11-30 23:59:00  Research           $30,000        972           False  \n",
            "conways-reverse-game-of-life-2020              2020-11-30 23:59:00  Playground            Swag         55           False  \n",
            "lyft-motion-prediction-autonomous-vehicles     2020-11-25 23:59:00  Featured           $30,000        360           False  \n",
            "rsna-str-pulmonary-embolism-detection          2020-10-26 23:59:00  Featured           $30,000         35           False  \n",
            "osic-pulmonary-fibrosis-progression            2020-10-06 23:59:00  Featured           $55,000       1640           False  \n",
            "stanford-covid-vaccine                         2020-10-05 23:59:00  Research           $25,000        156           False  \n",
            "landmark-recognition-2020                      2020-09-29 23:59:00  Research           $25,000        606           False  \n",
            "halite                                         2020-09-15 23:59:00  Featured              Swag       1132           False  \n",
            "birdsong-recognition                           2020-09-15 23:59:00  Research           $25,000       1341           False  \n",
            "global-wheat-detection                         2020-08-19 01:59:00  Research           $15,000       2245           False  \n"
          ],
          "name": "stdout"
        }
      ]
    },
    {
      "cell_type": "markdown",
      "metadata": {
        "id": "1RdNEuatuNG5",
        "colab_type": "text"
      },
      "source": [
        "- 여기에서 참여하기 원하는 대회의 데이터셋을 불러오면 된다.\n",
        "- 이번 `basic`강의에서는 `house-prices-advanced-regression-techniques` 데이터를 활용한 데이터 가공과 시각화를 연습할 것이기 때문에 아래와 같이 코드를 실행하여 데이터를 불러온다."
      ]
    },
    {
      "cell_type": "code",
      "metadata": {
        "id": "YQHYYwfEuTj2",
        "colab_type": "code",
        "colab": {
          "base_uri": "https://localhost:8080/",
          "height": 102
        },
        "outputId": "e82af442-c4ba-4014-d3a6-ad038f4fe94e"
      },
      "source": [
        "!kaggle competitions download -c house-prices-advanced-regression-techniques"
      ],
      "execution_count": 22,
      "outputs": [
        {
          "output_type": "stream",
          "text": [
            "Warning: Looks like you're using an outdated API Version, please consider updating (server 1.5.6 / client 1.5.4)\n",
            "test.csv: Skipping, found more recently modified local copy (use --force to force download)\n",
            "data_description.txt: Skipping, found more recently modified local copy (use --force to force download)\n",
            "sample_submission.csv: Skipping, found more recently modified local copy (use --force to force download)\n",
            "train.csv: Skipping, found more recently modified local copy (use --force to force download)\n"
          ],
          "name": "stdout"
        }
      ]
    },
    {
      "cell_type": "markdown",
      "metadata": {
        "id": "Gf_eBF5Ouf_q",
        "colab_type": "text"
      },
      "source": [
        "- 실제 데이터가 잘 다운로드 받게 되었는지 확인한다."
      ]
    },
    {
      "cell_type": "code",
      "metadata": {
        "id": "JfYYsy3Gujo2",
        "colab_type": "code",
        "colab": {
          "base_uri": "https://localhost:8080/",
          "height": 34
        },
        "outputId": "971e7d39-0699-43d9-e6ca-6698109cd36b"
      },
      "source": [
        "!ls"
      ],
      "execution_count": 23,
      "outputs": [
        {
          "output_type": "stream",
          "text": [
            "data_description.txt  sample_data  sample_submission.csv  test.csv  train.csv\n"
          ],
          "name": "stdout"
        }
      ]
    },
    {
      "cell_type": "markdown",
      "metadata": {
        "id": "lb20iJ_dKLaj",
        "colab_type": "text"
      },
      "source": [
        "### (4) 데이터 불러오기\n",
        "- `pandas` 모듈을 활용해서 데이터를 확인해본다. "
      ]
    },
    {
      "cell_type": "code",
      "metadata": {
        "id": "1IS6TXGcKSvf",
        "colab_type": "code",
        "colab": {
          "base_uri": "https://localhost:8080/",
          "height": 85
        },
        "outputId": "c64a1c22-ffb7-4608-fb4e-ca06de517d25"
      },
      "source": [
        "import pandas as pd\n",
        "train = pd.read_csv('train.csv')\n",
        "test = pd.read_csv('test.csv')\n",
        "\n",
        "# Id Column 저장\n",
        "train_ID = train['Id']\n",
        "test_ID = test['Id']\n",
        "\n",
        "print(\"Id 컬럼 삭제 전 Train 데이터 size : {} \".format(train.shape))\n",
        "print(\"Id 컬럼 삭제 전 Test 데이터 size : {} \".format(test.shape))\n",
        "\n",
        "# Id 삭제\n",
        "train.drop(\"Id\", axis = 1, inplace = True)\n",
        "test.drop(\"Id\", axis = 1, inplace = True)\n",
        "\n",
        "print(\"Id 컬럼 삭제 후 Train 데이터 size : {} \".format(train.shape))\n",
        "print(\"Id 컬럼 삭제 후 Test 데이터 size : {} \".format(test.shape))"
      ],
      "execution_count": 24,
      "outputs": [
        {
          "output_type": "stream",
          "text": [
            "Id 컬럼 삭제 전 Train 데이터 size : (1460, 81) \n",
            "Id 컬럼 삭제 전 Test 데이터 size : (1459, 80) \n",
            "Id 컬럼 삭제 후 Train 데이터 size : (1460, 80) \n",
            "Id 컬럼 삭제 후 Test 데이터 size : (1459, 79) \n"
          ],
          "name": "stdout"
        }
      ]
    },
    {
      "cell_type": "markdown",
      "metadata": {
        "id": "Mmws9P2n4zIG",
        "colab_type": "text"
      },
      "source": [
        "- 변수명이 삭제된 것을 확인한다.\n",
        "\n",
        "> Indented block\n",
        "\n"
      ]
    },
    {
      "cell_type": "markdown",
      "metadata": {
        "id": "RZ_uKh6JzgXb",
        "colab_type": "text"
      },
      "source": [
        "## II. 데이터 싸이언스의 전반적인 흐름 리뷰\n",
        "- 전반적인 흐름은 보통 다음과 같이 이루어진다. \n",
        "  + 문제정의\n",
        "  + 데이터 수집\n",
        "  + 데이터 EDA (기초 통계 및 시각화)\n",
        "  + `Feature Preprocessing` - 정규표현식 통해서 데이터를 문자열 데이터를 처리하는 방법, 불필요한 변수 삭제, \n",
        "  + `Feature Engineering` - Feature를 선택, 추출함 via 통계적 기법, 도메인 지식을 활용\n",
        "  + 모델링\n",
        "  + 모형 평가\n",
        "  + 모형 배포 및 보고서\n"
      ]
    },
    {
      "cell_type": "markdown",
      "metadata": {
        "id": "BZACMWG529f_",
        "colab_type": "text"
      },
      "source": [
        "- 데이터 시각화는 다음 페이지에 연재했기 때문에 참고한다. \n",
        "  + https://dschloe.github.io/kaggle/\n",
        "- Feature Preprocessing에 관련된 추가 자료는 다음을 참조하자. \n",
        "  + [Preprocessing in Sklearn](http://scikit-learn.org/stable/modules/preprocessing.html)\n",
        "  + [Feature Scaling and the effect of standardization for machine learning algorithms](http://sebastianraschka.com/Articles/2014_about_feature_scaling.html)\n",
        "\n",
        "\n"
      ]
    },
    {
      "cell_type": "markdown",
      "metadata": {
        "id": "J2Dx0Mvi27So",
        "colab_type": "text"
      },
      "source": [
        "## III. Feature Engineering\n",
        "- 도메인 지식을 활용하여 특징(`Feature`)을 만들어내는 과정\n",
        "- 머신러닝 모델을 위한 `Column` 생성하거나 또는 선택하는 작업 의미\n",
        "- `Feature Engineering`은 모델 성능에 즉각적으로 영향을 미치기 때문에 `ML`응용에 있어서 굉장히 중요한 단계이며, 전문성과 시간과 비용이 많이 듬\n",
        "- 리뷰하는 차원에서 말하면, Feature Preprocessing관한 일반적인 내용은 다음과 같다. \n",
        "  + 수치형: `Scaling`, `Outliers`, `Rank`, `np.log(1+x) and np.sqrt(1+x)`\n",
        "  + 범주형: `Label Encoding` for tree based models, `One-hot encoding` for non-tree-based models\n",
        "  + 날짜: `주기성(=Periodicity)`, `Time Since`, `날짜간의 차이`\n",
        "  + 위도 & 경도: `places`, `centers`, `statistics`\n",
        "- `Feature Engineering`은 결국 `Feature`를 컨트롤 및 추출하는 것으로 정의할 수 있다. \n",
        "  + 수치형 데이터: Binarization, Log Transformation, Scaling, Normalization, Regularization\n",
        "  + 텍스트 데이터: Bag of X, Stopwords, Tokenization, Tf-IDF Transformation, Regularization\n",
        "  + 범주형 데이터: One-hot encoding, Dummy Encoding, Effect Coding\n",
        "  + 차원축소(PCA)\n",
        "- 그러나, 결측치를 채우는 것도 `Feature Engineering`에 포함되며, 이 때 `Target`에 따른 `mean encoding`도 포함하게 된다. 특히, `mean encoding`은 분류모형을 다룰 때 다시 설명하도록 한다. \n",
        "\n"
      ]
    },
    {
      "cell_type": "markdown",
      "metadata": {
        "id": "zR5FiOO33hfv",
        "colab_type": "text"
      },
      "source": [
        "### (1) 데이터 합치기\n",
        "- 데이터를 합치는데, `target` 데이터를 별도 변수로 저장한다.  \n"
      ]
    },
    {
      "cell_type": "code",
      "metadata": {
        "id": "il5RT8ph9p-h",
        "colab_type": "code",
        "colab": {
          "base_uri": "https://localhost:8080/",
          "height": 34
        },
        "outputId": "4c5a6081-0601-493e-fc99-44dbe07a45a8"
      },
      "source": [
        "ntrain = train.shape[0] # 행 개수 저장\n",
        "ntest = test.shape[0] # 행 개수 저장\n",
        "\n",
        "y_train = train.SalePrice.values # y_train 추출\n",
        "\n",
        "house_df = pd.concat((train, test)).reset_index(drop = True)\n",
        "house_df.drop(['SalePrice'], axis=1, inplace=True)\n",
        "print(\"전체 데이터 Size : {}\".format(house_df.shape))"
      ],
      "execution_count": 25,
      "outputs": [
        {
          "output_type": "stream",
          "text": [
            "전체 데이터 Size : (2919, 79)\n"
          ],
          "name": "stdout"
        }
      ]
    },
    {
      "cell_type": "markdown",
      "metadata": {
        "id": "6EMnn4P7_HBo",
        "colab_type": "text"
      },
      "source": [
        "### (2) 결측치 데이터 확인\n",
        "- 결측치 check 함수를 만든다. "
      ]
    },
    {
      "cell_type": "code",
      "metadata": {
        "id": "DyMbMgyXD5o7",
        "colab_type": "code",
        "colab": {}
      },
      "source": [
        "def check_na(data):\n",
        "  isnull_na = (data.isnull().sum() / len(data)) * 100\n",
        "  data_na = isnull_na.drop(isnull_na[isnull_na == 0].index).sort_values(ascending=False)\n",
        "  missing_data = pd.DataFrame({'Missing Ratio' :data_na, \n",
        "                               'Data Type': data.dtypes[data_na.index]})\n",
        "  print(\"결측치 데이터 컬럼과 비율:\\n\", missing_data)"
      ],
      "execution_count": 27,
      "outputs": []
    },
    {
      "cell_type": "code",
      "metadata": {
        "id": "i7UFVinR9yoD",
        "colab_type": "code",
        "colab": {
          "base_uri": "https://localhost:8080/",
          "height": 629
        },
        "outputId": "c6978c49-24a1-4d2f-9be5-e1d5ea64a19b"
      },
      "source": [
        "check_na(house_df)"
      ],
      "execution_count": 28,
      "outputs": [
        {
          "output_type": "stream",
          "text": [
            "결측치 데이터 컬럼과 비율:\n",
            "               Missing Ratio Data Type\n",
            "PoolQC            99.657417    object\n",
            "MiscFeature       96.402878    object\n",
            "Alley             93.216855    object\n",
            "Fence             80.438506    object\n",
            "FireplaceQu       48.646797    object\n",
            "LotFrontage       16.649538   float64\n",
            "GarageFinish       5.447071    object\n",
            "GarageYrBlt        5.447071   float64\n",
            "GarageQual         5.447071    object\n",
            "GarageCond         5.447071    object\n",
            "GarageType         5.378554    object\n",
            "BsmtExposure       2.809181    object\n",
            "BsmtCond           2.809181    object\n",
            "BsmtQual           2.774923    object\n",
            "BsmtFinType2       2.740665    object\n",
            "BsmtFinType1       2.706406    object\n",
            "MasVnrType         0.822199    object\n",
            "MasVnrArea         0.787941   float64\n",
            "MSZoning           0.137033    object\n",
            "BsmtFullBath       0.068517   float64\n",
            "BsmtHalfBath       0.068517   float64\n",
            "Utilities          0.068517    object\n",
            "Functional         0.068517    object\n",
            "Exterior2nd        0.034258    object\n",
            "Exterior1st        0.034258    object\n",
            "SaleType           0.034258    object\n",
            "BsmtFinSF1         0.034258   float64\n",
            "BsmtFinSF2         0.034258   float64\n",
            "BsmtUnfSF          0.034258   float64\n",
            "Electrical         0.034258    object\n",
            "KitchenQual        0.034258    object\n",
            "GarageCars         0.034258   float64\n",
            "GarageArea         0.034258   float64\n",
            "TotalBsmtSF        0.034258   float64\n"
          ],
          "name": "stdout"
        }
      ]
    },
    {
      "cell_type": "markdown",
      "metadata": {
        "id": "n6HZHLcRAsem",
        "colab_type": "text"
      },
      "source": [
        "### (3) 결측치 데이터 채우기\n",
        "- 위 데이터에 순차적으로 처리하도록 한다. \n",
        "- 몇몇 분들은 `PoolQC`, `MiscFeature`와 같은 `Feature`는 삭제하기도 한다. "
      ]
    },
    {
      "cell_type": "code",
      "metadata": {
        "id": "J03PUpwMBmII",
        "colab_type": "code",
        "colab": {
          "base_uri": "https://localhost:8080/",
          "height": 544
        },
        "outputId": "36f1812d-e7f2-4ada-865b-75e0f2809565"
      },
      "source": [
        "var_lists = ['PoolQC', 'MiscFeature', 'Alley', 'Fence', 'FireplaceQu']\n",
        "for fea in var_lists:\n",
        "  house_df[fea] = house_df[fea].fillna('None')\n",
        "\n",
        "check_na(house_df)"
      ],
      "execution_count": 29,
      "outputs": [
        {
          "output_type": "stream",
          "text": [
            "결측치 데이터 컬럼과 비율:\n",
            "               Missing Ratio Data Type\n",
            "LotFrontage       16.649538   float64\n",
            "GarageQual         5.447071    object\n",
            "GarageFinish       5.447071    object\n",
            "GarageYrBlt        5.447071   float64\n",
            "GarageCond         5.447071    object\n",
            "GarageType         5.378554    object\n",
            "BsmtExposure       2.809181    object\n",
            "BsmtCond           2.809181    object\n",
            "BsmtQual           2.774923    object\n",
            "BsmtFinType2       2.740665    object\n",
            "BsmtFinType1       2.706406    object\n",
            "MasVnrType         0.822199    object\n",
            "MasVnrArea         0.787941   float64\n",
            "MSZoning           0.137033    object\n",
            "BsmtFullBath       0.068517   float64\n",
            "Functional         0.068517    object\n",
            "Utilities          0.068517    object\n",
            "BsmtHalfBath       0.068517   float64\n",
            "Exterior2nd        0.034258    object\n",
            "Exterior1st        0.034258    object\n",
            "SaleType           0.034258    object\n",
            "BsmtFinSF1         0.034258   float64\n",
            "BsmtFinSF2         0.034258   float64\n",
            "TotalBsmtSF        0.034258   float64\n",
            "Electrical         0.034258    object\n",
            "KitchenQual        0.034258    object\n",
            "GarageCars         0.034258   float64\n",
            "GarageArea         0.034258   float64\n",
            "BsmtUnfSF          0.034258   float64\n"
          ],
          "name": "stdout"
        }
      ]
    },
    {
      "cell_type": "markdown",
      "metadata": {
        "id": "E-00_IZRE4r2",
        "colab_type": "text"
      },
      "source": [
        "- `LotFrontage`의 데이터 `type`은 `float64`이기 때문에 `median`으로 처리하도록 한다. \n",
        "- 이 때 `Neighborhood`에 따른 `median`으로 지정하는 코드를 작성한다. "
      ]
    },
    {
      "cell_type": "code",
      "metadata": {
        "id": "EzvoW8h-FpQ6",
        "colab_type": "code",
        "colab": {
          "base_uri": "https://localhost:8080/",
          "height": 527
        },
        "outputId": "542afad5-32ae-438c-ae20-643c2ead2bdc"
      },
      "source": [
        "house_df['LotFrontage'] = house_df.groupby('Neighborhood')['LotFrontage'].transform(lambda x: x.fillna(x.median()))\n",
        "check_na(house_df)"
      ],
      "execution_count": 30,
      "outputs": [
        {
          "output_type": "stream",
          "text": [
            "결측치 데이터 컬럼과 비율:\n",
            "               Missing Ratio Data Type\n",
            "GarageQual         5.447071    object\n",
            "GarageFinish       5.447071    object\n",
            "GarageYrBlt        5.447071   float64\n",
            "GarageCond         5.447071    object\n",
            "GarageType         5.378554    object\n",
            "BsmtCond           2.809181    object\n",
            "BsmtExposure       2.809181    object\n",
            "BsmtQual           2.774923    object\n",
            "BsmtFinType2       2.740665    object\n",
            "BsmtFinType1       2.706406    object\n",
            "MasVnrType         0.822199    object\n",
            "MasVnrArea         0.787941   float64\n",
            "MSZoning           0.137033    object\n",
            "BsmtFullBath       0.068517   float64\n",
            "BsmtHalfBath       0.068517   float64\n",
            "Functional         0.068517    object\n",
            "Utilities          0.068517    object\n",
            "Exterior1st        0.034258    object\n",
            "Exterior2nd        0.034258    object\n",
            "SaleType           0.034258    object\n",
            "BsmtFinSF1         0.034258   float64\n",
            "BsmtFinSF2         0.034258   float64\n",
            "TotalBsmtSF        0.034258   float64\n",
            "Electrical         0.034258    object\n",
            "KitchenQual        0.034258    object\n",
            "GarageCars         0.034258   float64\n",
            "GarageArea         0.034258   float64\n",
            "BsmtUnfSF          0.034258   float64\n"
          ],
          "name": "stdout"
        }
      ]
    },
    {
      "cell_type": "markdown",
      "metadata": {
        "id": "Bum8zIC3Grlf",
        "colab_type": "text"
      },
      "source": [
        "- `GarageQual`, `GarageFinish`, `GarageCond`, `GarageType`의 데이터는 `object`이므로 모두 `None`으로 처리한다. "
      ]
    },
    {
      "cell_type": "code",
      "metadata": {
        "id": "zm_hZ6YtIYJA",
        "colab_type": "code",
        "colab": {
          "base_uri": "https://localhost:8080/",
          "height": 459
        },
        "outputId": "793ebc8a-4e5e-43e9-8b2e-8c25cf626098"
      },
      "source": [
        "for fea in ('GarageQual', 'GarageFinish', 'GarageCond', 'GarageType'):\n",
        "  house_df[fea] = house_df[fea].fillna('None')\n",
        "\n",
        "check_na(house_df)"
      ],
      "execution_count": 31,
      "outputs": [
        {
          "output_type": "stream",
          "text": [
            "결측치 데이터 컬럼과 비율:\n",
            "               Missing Ratio Data Type\n",
            "GarageYrBlt        5.447071   float64\n",
            "BsmtCond           2.809181    object\n",
            "BsmtExposure       2.809181    object\n",
            "BsmtQual           2.774923    object\n",
            "BsmtFinType2       2.740665    object\n",
            "BsmtFinType1       2.706406    object\n",
            "MasVnrType         0.822199    object\n",
            "MasVnrArea         0.787941   float64\n",
            "MSZoning           0.137033    object\n",
            "BsmtFullBath       0.068517   float64\n",
            "BsmtHalfBath       0.068517   float64\n",
            "Functional         0.068517    object\n",
            "Utilities          0.068517    object\n",
            "TotalBsmtSF        0.034258   float64\n",
            "BsmtUnfSF          0.034258   float64\n",
            "BsmtFinSF2         0.034258   float64\n",
            "GarageArea         0.034258   float64\n",
            "BsmtFinSF1         0.034258   float64\n",
            "Electrical         0.034258    object\n",
            "KitchenQual        0.034258    object\n",
            "GarageCars         0.034258   float64\n",
            "Exterior2nd        0.034258    object\n",
            "Exterior1st        0.034258    object\n",
            "SaleType           0.034258    object\n"
          ],
          "name": "stdout"
        }
      ]
    },
    {
      "cell_type": "markdown",
      "metadata": {
        "id": "fhXiA_MOI951",
        "colab_type": "text"
      },
      "source": [
        "- `BsmtCond`, `BsmtExposure`, `BsmtQual`, `BsmtFinType2`, `BsmtFinType1`, `MasVnrType`는 범주형 데이터이므로 모두 `None`으로 처리한다. \n",
        "- `GarageYrBlt`, `MasVnrArea`, `BsmtFullBath`, `BsmtHalfBath`, `TotalBsmtSF`, `BsmtUnfSF`, `BsmtFinSF2`, `GarageArea`, `BsmtFinSF1`는 모두 숫자형 데이터이므로 모두 0으로 처리한다. "
      ]
    },
    {
      "cell_type": "code",
      "metadata": {
        "id": "FfL2VJ4_KNEs",
        "colab_type": "code",
        "colab": {
          "base_uri": "https://localhost:8080/",
          "height": 187
        },
        "outputId": "6d474c4d-235f-475f-9947-08b9ccefd346"
      },
      "source": [
        "for fea in ('BsmtCond', 'BsmtExposure', 'BsmtQual', 'BsmtFinType2', 'BsmtFinType1', 'MasVnrType'):\n",
        "  house_df[fea] = house_df[fea].fillna('None')\n",
        "\n",
        "for fea in ('GarageYrBlt', 'MasVnrArea', 'BsmtFullBath', 'BsmtHalfBath', 'TotalBsmtSF', 'BsmtUnfSF', 'BsmtFinSF2', 'GarageArea', 'BsmtFinSF1', 'GarageCars'):\n",
        "  house_df[fea] = house_df[fea].fillna(0)\n",
        "\n",
        "check_na(house_df)"
      ],
      "execution_count": 32,
      "outputs": [
        {
          "output_type": "stream",
          "text": [
            "결측치 데이터 컬럼과 비율:\n",
            "              Missing Ratio Data Type\n",
            "MSZoning          0.137033    object\n",
            "Functional        0.068517    object\n",
            "Utilities         0.068517    object\n",
            "SaleType          0.034258    object\n",
            "KitchenQual       0.034258    object\n",
            "Electrical        0.034258    object\n",
            "Exterior2nd       0.034258    object\n",
            "Exterior1st       0.034258    object\n"
          ],
          "name": "stdout"
        }
      ]
    },
    {
      "cell_type": "markdown",
      "metadata": {
        "id": "01TVP3sfLDLz",
        "colab_type": "text"
      },
      "source": [
        "- 우선 `Utilities` 데이터는 `AllPub` 한개의 값만 있기 때문에 삭제한다. "
      ]
    },
    {
      "cell_type": "code",
      "metadata": {
        "id": "2mx7srqfM76g",
        "colab_type": "code",
        "colab": {
          "base_uri": "https://localhost:8080/",
          "height": 170
        },
        "outputId": "26da457d-cd76-4140-a27e-70e66c2111a8"
      },
      "source": [
        "house_df = house_df.drop(['Utilities'], axis = 1)\n",
        "check_na(house_df)"
      ],
      "execution_count": 33,
      "outputs": [
        {
          "output_type": "stream",
          "text": [
            "결측치 데이터 컬럼과 비율:\n",
            "              Missing Ratio Data Type\n",
            "MSZoning          0.137033    object\n",
            "Functional        0.068517    object\n",
            "SaleType          0.034258    object\n",
            "KitchenQual       0.034258    object\n",
            "Electrical        0.034258    object\n",
            "Exterior2nd       0.034258    object\n",
            "Exterior1st       0.034258    object\n"
          ],
          "name": "stdout"
        }
      ]
    },
    {
      "cell_type": "markdown",
      "metadata": {
        "id": "vtNpR3ubOGlq",
        "colab_type": "text"
      },
      "source": [
        "- `MSZoning` 내 각 데이터의 빈도수를 확인해본다.  "
      ]
    },
    {
      "cell_type": "code",
      "metadata": {
        "id": "yiXyASfRPDPv",
        "colab_type": "code",
        "colab": {
          "base_uri": "https://localhost:8080/",
          "height": 119
        },
        "outputId": "53f8ead6-1d84-4f27-b302-77b7c1fc2df2"
      },
      "source": [
        "house_df['MSZoning'].value_counts()"
      ],
      "execution_count": 16,
      "outputs": [
        {
          "output_type": "execute_result",
          "data": {
            "text/plain": [
              "RL         2265\n",
              "RM          460\n",
              "FV          139\n",
              "RH           26\n",
              "C (all)      25\n",
              "Name: MSZoning, dtype: int64"
            ]
          },
          "metadata": {
            "tags": []
          },
          "execution_count": 16
        }
      ]
    },
    {
      "cell_type": "markdown",
      "metadata": {
        "id": "l8zxhKogPMkj",
        "colab_type": "text"
      },
      "source": [
        "- 위와 같이 `RL`의 빈도수가 매우 많기 때문에 `RL`, 즉 최빈값을 대체해서 넣도록 한다. \n",
        "- 나머지 결측치의 데이터를 위와 같이 대체해서 넣도록 한다. "
      ]
    },
    {
      "cell_type": "code",
      "metadata": {
        "id": "h60pf8XvPW6f",
        "colab_type": "code",
        "colab": {
          "base_uri": "https://localhost:8080/",
          "height": 85
        },
        "outputId": "2bb6e1a7-d63e-4ddb-9511-a5ae4d7273c8"
      },
      "source": [
        "for fea in ('MSZoning', 'Functional', 'SaleType', 'KitchenQual', 'Electrical', 'Exterior2nd', 'Exterior1st'):\n",
        "  house_df[fea] = house_df[fea].fillna(house_df[fea].mode()[0])\n",
        "\n",
        "check_na(house_df)"
      ],
      "execution_count": 34,
      "outputs": [
        {
          "output_type": "stream",
          "text": [
            "결측치 데이터 컬럼과 비율:\n",
            " Empty DataFrame\n",
            "Columns: [Missing Ratio, Data Type]\n",
            "Index: []\n"
          ],
          "name": "stdout"
        }
      ]
    },
    {
      "cell_type": "markdown",
      "metadata": {
        "id": "e3DwAeuRJ4j2",
        "colab_type": "text"
      },
      "source": [
        "## IV. 결론\n",
        "- `Feature Engineering`의 이론적인 개념을 배웠다.\n",
        "  + 실제 각각에 대해서 깊이 배우고자 한다면, `Feature Engineering` 교재를 읽으시는 것을 추천한다. \n",
        "- `결측치`를 채우는 방법에 대해서 배웠다\n",
        "- 그러나, 아직 여정이 더 남아 있다. \n",
        "\n"
      ]
    }
  ]
}