{
 "cells": [
  {
   "cell_type": "markdown",
   "metadata": {
    "colab_type": "text",
    "id": "Rd7OM2we7uKo"
   },
   "source": [
    "## 개요\n",
    "- `EDA`를 진행할 때, 결측치가 있는 데이터를 시각화 하여 결측치 유무를 파악하였다. \n",
    "  + 참조: [EDA with Housing Price Prediction - Handling Missing Values](https://chloevan.github.io/kaggle/chapter_2_10_eda_with_missingvalues/)\n",
    "- 이번 포스트에서는 결측치를 처리하는 코드를 작성할 것이다. "
   ]
  },
  {
   "cell_type": "markdown",
   "metadata": {
    "colab_type": "text",
    "id": "SaNIh5wb-q1X"
   },
   "source": [
    "## I. 구글 드라이브 연동\n",
    "- 구글 코랩을 시작하면 언제든지 가장 먼저 해야 하는 것은 드라이브 연동이다."
   ]
  },
  {
   "cell_type": "code",
   "execution_count": 1,
   "metadata": {
    "colab": {
     "base_uri": "https://localhost:8080/",
     "height": 156
    },
    "colab_type": "code",
    "id": "A4UJTdwU7SOf",
    "outputId": "fb329fca-1d65-43c5-c37a-41078b238724"
   },
   "outputs": [
    {
     "name": "stdout",
     "output_type": "stream",
     "text": [
      "/content/drive\n",
      "Go to this URL in a browser: https://accounts.google.com/o/oauth2/auth?client_id=947318989803-6bn6qk8qdgf4n4g3pfee6491hc0brc4i.apps.googleusercontent.com&redirect_uri=urn%3aietf%3awg%3aoauth%3a2.0%3aoob&scope=email%20https%3a%2f%2fwww.googleapis.com%2fauth%2fdocs.test%20https%3a%2f%2fwww.googleapis.com%2fauth%2fdrive%20https%3a%2f%2fwww.googleapis.com%2fauth%2fdrive.photos.readonly%20https%3a%2f%2fwww.googleapis.com%2fauth%2fpeopleapi.readonly&response_type=code\n",
      "\n",
      "Enter your authorization code:\n",
      "··········\n",
      "Mounted at /content/drive\n",
      "/content/drive/My Drive/inflearn/chapter04\n"
     ]
    }
   ],
   "source": [
    "from google.colab import drive # 패키지 불러오기 \n",
    "from os.path import join  \n",
    "\n",
    "ROOT = \"/content/drive\"     # 드라이브 기본 경로\n",
    "print(ROOT)                 # print content of ROOT (Optional)\n",
    "drive.mount(ROOT, force_remount=True)           # 드라이브 기본 경로 Mount\n",
    "\n",
    "MY_GOOGLE_DRIVE_PATH = 'My Drive/inflearn/chapter04' # 프로젝트 경로\n",
    "PROJECT_PATH = join(ROOT, MY_GOOGLE_DRIVE_PATH) # 프로젝트 경로\n",
    "print(PROJECT_PATH)"
   ]
  },
  {
   "cell_type": "code",
   "execution_count": 2,
   "metadata": {
    "colab": {
     "base_uri": "https://localhost:8080/",
     "height": 34
    },
    "colab_type": "code",
    "id": "IbzLjrSU-atx",
    "outputId": "4e4e2906-38dd-4d3b-8d64-c33ab0d6c27f"
   },
   "outputs": [
    {
     "name": "stdout",
     "output_type": "stream",
     "text": [
      "/content/drive/My Drive/inflearn/chapter04\n"
     ]
    }
   ],
   "source": [
    "%cd \"{PROJECT_PATH}\""
   ]
  },
  {
   "cell_type": "code",
   "execution_count": 3,
   "metadata": {
    "colab": {
     "base_uri": "https://localhost:8080/",
     "height": 34
    },
    "colab_type": "code",
    "id": "jHJxfVER-dyf",
    "outputId": "3db800ca-45df-4bc6-ab0c-db5a23c50d41"
   },
   "outputs": [
    {
     "name": "stdout",
     "output_type": "stream",
     "text": [
      "data\n"
     ]
    }
   ],
   "source": [
    "!ls"
   ]
  },
  {
   "cell_type": "markdown",
   "metadata": {
    "colab_type": "text",
    "id": "T8njohYK-20D"
   },
   "source": [
    "- 필자는 inflearn_kaggle 폴더안에 data, docs, source 등의 하위 폴더를 추가로 만들었다.\n",
    "- 즉, data 안에 다운로드 받은 파일이 있을 것이다."
   ]
  },
  {
   "cell_type": "markdown",
   "metadata": {
    "colab_type": "text",
    "id": "Jq0cdp-j-45P"
   },
   "source": [
    "## II. 프로젝트 관련 패키지 불러오기\n",
    "- 데이터 과학 관련 패키지들을 불러온다. "
   ]
  },
  {
   "cell_type": "code",
   "execution_count": 4,
   "metadata": {
    "colab": {
     "base_uri": "https://localhost:8080/",
     "height": 71
    },
    "colab_type": "code",
    "id": "i_yPA4iW-hce",
    "outputId": "999bdc26-589d-42ec-ab2a-41e0571d9926"
   },
   "outputs": [
    {
     "name": "stderr",
     "output_type": "stream",
     "text": [
      "/usr/local/lib/python3.6/dist-packages/statsmodels/tools/_testing.py:19: FutureWarning: pandas.util.testing is deprecated. Use the functions in the public API at pandas.testing instead.\n",
      "  import pandas.util.testing as tm\n"
     ]
    }
   ],
   "source": [
    "import pandas as pd\n",
    "import pandas_profiling\n",
    "import numpy as np\n",
    "import matplotlib as mpl\n",
    "import matplotlib.pyplot as plt\n",
    "from matplotlib.pyplot import figure\n",
    "import seaborn as sns\n",
    "\n",
    "from IPython.core.display import display, HTML"
   ]
  },
  {
   "cell_type": "markdown",
   "metadata": {
    "colab_type": "text",
    "id": "fs8ZS_c__OGv"
   },
   "source": [
    "- 시각화 진행 시, 일정한 `Template`을 작성한다. "
   ]
  },
  {
   "cell_type": "code",
   "execution_count": 5,
   "metadata": {
    "colab": {},
    "colab_type": "code",
    "id": "FgA-vEl8-mQh"
   },
   "outputs": [],
   "source": [
    "%matplotlib inline\n",
    "import matplotlib.pylab as plt\n",
    "\n",
    "plt.rcParams[\"figure.figsize\"] = (14,4)\n",
    "plt.rcParams['lines.linewidth'] = 2\n",
    "plt.rcParams['lines.color'] = 'r'\n",
    "plt.rcParams['axes.grid'] = True "
   ]
  },
  {
   "cell_type": "markdown",
   "metadata": {
    "colab_type": "text",
    "id": "YMcWJ-rH_fNC"
   },
   "source": [
    "## III. 데이터 불러오기\n",
    "- `train.csv`와 `test.csv` 데이터를 불러와서 확인해보는 소스코드를 작성한다. "
   ]
  },
  {
   "cell_type": "code",
   "execution_count": 6,
   "metadata": {
    "colab": {
     "base_uri": "https://localhost:8080/",
     "height": 34
    },
    "colab_type": "code",
    "id": "avYeTUuY-o-h",
    "outputId": "40709125-0650-4ecc-a021-858041ce2663"
   },
   "outputs": [
    {
     "name": "stdout",
     "output_type": "stream",
     "text": [
      "data import is done\n"
     ]
    }
   ],
   "source": [
    "train = pd.read_csv('data/train.csv')\n",
    "test = pd.read_csv('data/test.csv')\n",
    "print(\"data import is done\")"
   ]
  },
  {
   "cell_type": "markdown",
   "metadata": {
    "colab_type": "text",
    "id": "FwvHOI5Q_eEZ"
   },
   "source": [
    "- 실제로 데이터가 잘 불러와졌는지 다시한번 확인해본다. "
   ]
  },
  {
   "cell_type": "code",
   "execution_count": 7,
   "metadata": {
    "colab": {
     "base_uri": "https://localhost:8080/",
     "height": 34
    },
    "colab_type": "code",
    "id": "mB_C2fgj_krM",
    "outputId": "f1c3146e-d37a-4b83-a0ba-754a940b7272"
   },
   "outputs": [
    {
     "data": {
      "text/plain": [
       "((1460, 81), (1459, 80))"
      ]
     },
     "execution_count": 7,
     "metadata": {
      "tags": []
     },
     "output_type": "execute_result"
    }
   ],
   "source": [
    "train.shape, test.shape"
   ]
  },
  {
   "cell_type": "markdown",
   "metadata": {
    "colab_type": "text",
    "id": "op6CWuIt_rY4"
   },
   "source": [
    "- 이제 데이터 전처리를 위한 사적 작업이 모두 종료된 것이다. "
   ]
  },
  {
   "cell_type": "markdown",
   "metadata": {
    "colab_type": "text",
    "id": "Yagulgc2_-jh"
   },
   "source": [
    "## IV. 결측치 처리방법 1 - \"None\" 또는 0으로 채우기\n",
    "- 결측치 처리방법은 크게 2가지가 있다. \n",
    "  + 데이터 삭제 또는 데이터 채우기\n",
    "- 데이터 삭제 진행하는 코드는 아래 튜토리얼을 확인한다. \n",
    "  + [Pandas Data Handling 1편](https://chloevan.github.io/python/python_edu/02_datatransformation/pandas_data_handling_1/)\n",
    "- 본 포스트에서는 데이터를 채우는 방법에 대해 소개한다. "
   ]
  },
  {
   "cell_type": "markdown",
   "metadata": {
    "colab_type": "text",
    "id": "i7O7Gg39B8Q0"
   },
   "source": [
    "### (1) 전체 데이터 결측치 확인\n",
    "- 전체 데이터 결측치를 확인하는 방법은 아래와 같다. "
   ]
  },
  {
   "cell_type": "code",
   "execution_count": 8,
   "metadata": {
    "colab": {
     "base_uri": "https://localhost:8080/",
     "height": 357
    },
    "colab_type": "code",
    "id": "WWSOhGqCCZyK",
    "outputId": "805c09fd-e9d1-45fb-f9c0-e5653663986e"
   },
   "outputs": [
    {
     "data": {
      "text/plain": [
       "PoolQC          99.520548\n",
       "MiscFeature     96.301370\n",
       "Alley           93.767123\n",
       "Fence           80.753425\n",
       "FireplaceQu     47.260274\n",
       "LotFrontage     17.739726\n",
       "GarageYrBlt      5.547945\n",
       "GarageType       5.547945\n",
       "GarageFinish     5.547945\n",
       "GarageQual       5.547945\n",
       "GarageCond       5.547945\n",
       "BsmtFinType2     2.602740\n",
       "BsmtExposure     2.602740\n",
       "BsmtFinType1     2.534247\n",
       "BsmtCond         2.534247\n",
       "BsmtQual         2.534247\n",
       "MasVnrArea       0.547945\n",
       "MasVnrType       0.547945\n",
       "Electrical       0.068493\n",
       "dtype: float64"
      ]
     },
     "execution_count": 8,
     "metadata": {
      "tags": []
     },
     "output_type": "execute_result"
    }
   ],
   "source": [
    "new_df = train.copy()\n",
    "\n",
    "new_df_na = (new_df.isnull().sum() / len(new_df)) * 100\n",
    "new_df_na.sort_values(ascending=False).reset_index(drop=True)\n",
    "new_df_na = new_df_na.drop(new_df_na[new_df_na == 0].index).sort_values(ascending=False)[:30]\n",
    "new_df_na"
   ]
  },
  {
   "cell_type": "markdown",
   "metadata": {
    "colab_type": "text",
    "id": "knJcr8x9EILL"
   },
   "source": [
    "- 위 데이터를 가지고 시각화를 진행한다. "
   ]
  },
  {
   "cell_type": "code",
   "execution_count": 9,
   "metadata": {
    "colab": {
     "base_uri": "https://localhost:8080/",
     "height": 821
    },
    "colab_type": "code",
    "id": "mFYQ86oZEK27",
    "outputId": "677bf5b2-ce6a-4401-f31c-2d325eab86a5"
   },
   "outputs": [
    {
     "data": {
      "image/png": "[encoded data removed]",
      "text/plain": [
       "<Figure size 1080x864 with 1 Axes>"
      ]
     },
     "metadata": {
      "needs_background": "light",
      "tags": []
     },
     "output_type": "display_data"
    }
   ],
   "source": [
    "f, ax = plt.subplots(figsize=(15, 12))\n",
    "plt.xticks(rotation='90')\n",
    "sns.barplot(x=new_df_na.index, y=new_df_na)\n",
    "plt.xlabel('Variables', fontsize=24)\n",
    "plt.ylabel('Percent of missing values', fontsize=24)\n",
    "plt.title('Percent missing data by Variable', fontsize=32)\n",
    "plt.show()"
   ]
  },
  {
   "cell_type": "markdown",
   "metadata": {
    "colab_type": "text",
    "id": "oSLj8ckxD-MV"
   },
   "source": [
    "- 위 그래프를 본 후 데이터를 채운다.\n",
    "- 우선 각각의 데이터를 모두 \"None\" 또는 0으로 채운다. \n",
    "  + `Categorical Feature`는 `None`으로 채운다. \n",
    "  + `Numerical Feature`는 0으로 채운다. "
   ]
  },
  {
   "cell_type": "markdown",
   "metadata": {
    "colab_type": "text",
    "id": "z3g2yaxeFIrR"
   },
   "source": [
    "### (2) Categorical Feature 변수 다루기\n",
    "- 이 때, 메서드는 fillna(\"None\")을 사용한다. "
   ]
  },
  {
   "cell_type": "code",
   "execution_count": 10,
   "metadata": {
    "colab": {},
    "colab_type": "code",
    "id": "Jw0OFGBsFILe"
   },
   "outputs": [],
   "source": [
    "new_df[\"PoolQC\"] = new_df[\"PoolQC\"].fillna(\"None\")\n",
    "new_df[\"MiscFeature\"] = new_df[\"MiscFeature\"].fillna(\"None\")"
   ]
  },
  {
   "cell_type": "markdown",
   "metadata": {
    "colab_type": "text",
    "id": "r4D6_uG8GoJh"
   },
   "source": [
    "- 자주 반복되는 것 같을 것 같아서, `for-loop`로 데이터를 처리하도록 한다.\n",
    "  + 우선, 전체 데이터에서 `categorical features`를 추출한다 `(List)`로 반환한다. \n",
    "  + for-loop로 작성 후, 위 소스코드를 적용한다. "
   ]
  },
  {
   "cell_type": "code",
   "execution_count": 11,
   "metadata": {
    "colab": {
     "base_uri": "https://localhost:8080/",
     "height": 204
    },
    "colab_type": "code",
    "id": "WBuyelVIGwNW",
    "outputId": "f106f3f9-6cec-46a9-84c6-817da4a4169d"
   },
   "outputs": [
    {
     "name": "stdout",
     "output_type": "stream",
     "text": [
      "Index(['MSZoning', 'Street', 'Alley', 'LotShape', 'LandContour', 'Utilities',\n",
      "       'LotConfig', 'LandSlope', 'Neighborhood', 'Condition1', 'Condition2',\n",
      "       'BldgType', 'HouseStyle', 'RoofStyle', 'RoofMatl', 'Exterior1st',\n",
      "       'Exterior2nd', 'MasVnrType', 'ExterQual', 'ExterCond', 'Foundation',\n",
      "       'BsmtQual', 'BsmtCond', 'BsmtExposure', 'BsmtFinType1', 'BsmtFinType2',\n",
      "       'Heating', 'HeatingQC', 'CentralAir', 'Electrical', 'KitchenQual',\n",
      "       'Functional', 'FireplaceQu', 'GarageType', 'GarageFinish', 'GarageQual',\n",
      "       'GarageCond', 'PavedDrive', 'PoolQC', 'Fence', 'MiscFeature',\n",
      "       'SaleType', 'SaleCondition'],\n",
      "      dtype='object')\n",
      "The total number of categorical features are:  43\n"
     ]
    }
   ],
   "source": [
    "# Categorical List 추출\n",
    "categorical_features = new_df.select_dtypes(exclude=[np.number])\n",
    "print(categorical_features.columns)\n",
    "print(\"The total number of categorical features are: \", len(categorical_features.columns))"
   ]
  },
  {
   "cell_type": "code",
   "execution_count": 12,
   "metadata": {
    "colab": {
     "base_uri": "https://localhost:8080/",
     "height": 85
    },
    "colab_type": "code",
    "id": "WkFSJBz-HsvE",
    "outputId": "4270ed38-58a3-4007-d56e-e050d5a84d52"
   },
   "outputs": [
    {
     "data": {
      "text/plain": [
       "LotFrontage    17.739726\n",
       "GarageYrBlt     5.547945\n",
       "MasVnrArea      0.547945\n",
       "dtype: float64"
      ]
     },
     "execution_count": 12,
     "metadata": {
      "tags": []
     },
     "output_type": "execute_result"
    }
   ],
   "source": [
    "for cat_fea in categorical_features:\n",
    "  new_df[cat_fea] = new_df[cat_fea].fillna(\"None\")\n",
    "\n",
    "new_df_na = (new_df.isnull().sum() / len(new_df)) * 100\n",
    "new_df_na.sort_values(ascending=False).reset_index(drop=True)\n",
    "new_df_na = new_df_na.drop(new_df_na[new_df_na == 0].index).sort_values(ascending=False)[:30]\n",
    "new_df_na"
   ]
  },
  {
   "cell_type": "markdown",
   "metadata": {
    "colab_type": "text",
    "id": "td4O7FYdISQT"
   },
   "source": [
    "### (3) Numerical Feature 변수 처리\n",
    "- 위 결과값으로 수치형 데이터는 3개의 데이터에서만 0으로 처리하면 되기 때문에, 강제적으로 `List` 변수를 만든 후 작업을 진행한다."
   ]
  },
  {
   "cell_type": "code",
   "execution_count": 13,
   "metadata": {
    "colab": {
     "base_uri": "https://localhost:8080/",
     "height": 34
    },
    "colab_type": "code",
    "id": "5SshcHRhh0_e",
    "outputId": "35f674f5-b89a-426d-9c20-cb432f09e84e"
   },
   "outputs": [
    {
     "data": {
      "text/plain": [
       "Series([], dtype: float64)"
      ]
     },
     "execution_count": 13,
     "metadata": {
      "tags": []
     },
     "output_type": "execute_result"
    }
   ],
   "source": [
    "numerical_na_features = ['LotFrontage', 'GarageYrBlt', 'MasVnrArea']\n",
    "for num_fea in numerical_na_features:\n",
    "  new_df[num_fea] = new_df[num_fea].fillna(0)\n",
    "\n",
    "new_df_na = (new_df.isnull().sum() / len(new_df)) * 100\n",
    "new_df_na.sort_values(ascending=False).reset_index(drop=True)\n",
    "new_df_na = new_df_na.drop(new_df_na[new_df_na == 0].index).sort_values(ascending=False)[:30]\n",
    "new_df_na"
   ]
  },
  {
   "cell_type": "markdown",
   "metadata": {
    "colab_type": "text",
    "id": "bpY1GlqPi5Fe"
   },
   "source": [
    "- 실제 `new_df`에 `NA`가 있는지 확인한다. "
   ]
  },
  {
   "cell_type": "code",
   "execution_count": 14,
   "metadata": {
    "colab": {
     "base_uri": "https://localhost:8080/",
     "height": 221
    },
    "colab_type": "code",
    "id": "oybwogJcjFqw",
    "outputId": "d7e50948-d1bb-4ab0-c837-b95bd6ff0580"
   },
   "outputs": [
    {
     "data": {
      "text/plain": [
       "Id               0\n",
       "MSSubClass       0\n",
       "MSZoning         0\n",
       "LotFrontage      0\n",
       "LotArea          0\n",
       "                ..\n",
       "MoSold           0\n",
       "YrSold           0\n",
       "SaleType         0\n",
       "SaleCondition    0\n",
       "SalePrice        0\n",
       "Length: 81, dtype: int64"
      ]
     },
     "execution_count": 14,
     "metadata": {
      "tags": []
     },
     "output_type": "execute_result"
    }
   ],
   "source": [
    "new_df.isnull().sum()"
   ]
  },
  {
   "cell_type": "markdown",
   "metadata": {
    "colab_type": "text",
    "id": "ZqW4x7YDkJ_I"
   },
   "source": [
    "## V. What's Next\n",
    "- 위 방법이 꼭 좋은 것은 아니다. 목적이 없기 때문이다. \n",
    "  + 그러나, 상대적으로 적은 결측치가 발생했을 경우에는 위와 같은 방법이 도움이 될 수도 있다. \n",
    "- 결측치를 채우는 다양한 방법이 있다. \n",
    "  + 참고: [Missing Data and Imputation](https://towardsdatascience.com/missing-data-and-imputation-89e9889268c8)"
   ]
  }
 ],
 "metadata": {
  "colab": {
   "collapsed_sections": [],
   "name": "Chapter_4_1_handling_missing_values.ipynb",
   "provenance": []
  },
  "kernelspec": {
   "display_name": "Python 3",
   "language": "python",
   "name": "python3"
  },
  "language_info": {
   "codemirror_mode": {
    "name": "ipython",
    "version": 3
   },
   "file_extension": ".py",
   "mimetype": "text/x-python",
   "name": "python",
   "nbconvert_exporter": "python",
   "pygments_lexer": "ipython3",
   "version": "3.7.0"
  }
 },
 "nbformat": 4,
 "nbformat_minor": 4
}
